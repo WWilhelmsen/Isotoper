{
 "cells": [
  {
   "cell_type": "markdown",
   "metadata": {},
   "source": [
    "# Tørrlab, undersøkelse av isotoper\n",
    "## Werner Wilhelmsen"
   ]
  },
  {
   "cell_type": "code",
   "execution_count": 5,
   "metadata": {},
   "outputs": [
    {
     "name": "stdin",
     "output_type": "stream",
     "text": [
      "Grunnstoff:  F\n"
     ]
    },
    {
     "name": "stdout",
     "output_type": "stream",
     "text": [
      "\n",
      "    Z    A    Masse   Forekomst   Er radioaktiv\n",
      "    9    19   18.99840 1.000       False\n"
     ]
    }
   ],
   "source": [
    "from mendeleev import *\n",
    "Z=element(input('Grunnstoff: '))\n",
    "print()\n",
    "print('    Z    A    Masse   Forekomst   Er radioaktiv')\n",
    "for iso in Z.isotopes:\n",
    "    print(iso,'     ',iso.is_radioactive)\n",
    "\n"
   ]
  },
  {
   "cell_type": "code",
   "execution_count": null,
   "metadata": {},
   "outputs": [],
   "source": []
  }
 ],
 "metadata": {
  "kernelspec": {
   "display_name": "Python 3",
   "language": "python",
   "name": "python3"
  },
  "language_info": {
   "codemirror_mode": {
    "name": "ipython",
    "version": 3
   },
   "file_extension": ".py",
   "mimetype": "text/x-python",
   "name": "python",
   "nbconvert_exporter": "python",
   "pygments_lexer": "ipython3",
   "version": "3.8.5"
  }
 },
 "nbformat": 4,
 "nbformat_minor": 4
}
